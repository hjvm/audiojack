{
 "cells": [
  {
   "cell_type": "markdown",
   "metadata": {},
   "source": [
    "### 1. Dependencies and imports."
   ]
  },
  {
   "cell_type": "markdown",
   "metadata": {},
   "source": [
    "!pip install torch torchaudio transformers datasets jiwer"
   ]
  },
  {
   "cell_type": "code",
   "execution_count": null,
   "metadata": {},
   "outputs": [],
   "source": [
    "import json\n",
    "import torchaudio\n",
    "import torch\n",
    "from datasets import Dataset, load_dataset"
   ]
  },
  {
   "cell_type": "markdown",
   "metadata": {},
   "source": [
    "### 2. Process dataset for training."
   ]
  },
  {
   "cell_type": "code",
   "execution_count": null,
   "metadata": {},
   "outputs": [],
   "source": [
    "# Load JSONL dataset\n",
    "dataset_path = \"asr_dataset/synthetic_asr_data.jsonl\"\n",
    "data_entries = []\n",
    "\n",
    "with open(dataset_path, \"r\") as f:\n",
    "    for line in f:\n",
    "        data_entries.append(json.loads(line))\n",
    "\n",
    "# Convert to Hugging Face Dataset format\n",
    "dataset = Dataset.from_list(data_entries)\n",
    "\n",
    "# Preprocessing function\n",
    "def preprocess(batch):\n",
    "    waveform, sample_rate = torchaudio.load(batch[\"audio_path\"])\n",
    "    batch[\"input_values\"] = waveform.squeeze(0).numpy()  # Convert to NumPy\n",
    "    batch[\"labels\"] = batch[\"bpe_tokens\"]\n",
    "    return batch\n",
    "\n",
    "# Apply preprocessing\n",
    "dataset = dataset.map(preprocess)\n",
    "\n",
    "# Split into train/test sets\n",
    "dataset = dataset.train_test_split(test_size=0.1)\n"
   ]
  },
  {
   "cell_type": "markdown",
   "metadata": {},
   "source": [
    "### 3. Load Pretrained ASR model and tokenizer"
   ]
  },
  {
   "cell_type": "code",
   "execution_count": null,
   "metadata": {},
   "outputs": [],
   "source": [
    "from transformers import Wav2Vec2Processor, Wav2Vec2ForCTC\n",
    "\n",
    "# Load Wav2Vec2 tokenizer and model\n",
    "processor = Wav2Vec2Processor.from_pretrained(\"facebook/wav2vec2-large-960h\")\n",
    "model = Wav2Vec2ForCTC.from_pretrained(\"facebook/wav2vec2-large-960h\", vocab_size=50257)  # Match GPT-2 vocab size\n",
    "\n",
    "# Update model config to recognize LLM tokens\n",
    "model.config.pad_token_id = processor.tokenizer.pad_token_id\n",
    "model.config.vocab_size = 50257  # Match GPT-2 vocabulary\n"
   ]
  },
  {
   "cell_type": "markdown",
   "metadata": {},
   "source": [
    "### 4. Define Training Arguments"
   ]
  },
  {
   "cell_type": "code",
   "execution_count": null,
   "metadata": {},
   "outputs": [],
   "source": [
    "from transformers import TrainingArguments\n",
    "\n",
    "training_args = TrainingArguments(\n",
    "    output_dir=\"./wav2vec2_asr\",\n",
    "    per_device_train_batch_size=8,\n",
    "    per_device_eval_batch_size=8,\n",
    "    evaluation_strategy=\"epoch\",\n",
    "    save_strategy=\"epoch\",\n",
    "    learning_rate=1e-4,\n",
    "    warmup_steps=500,\n",
    "    logging_steps=100,\n",
    "    save_total_limit=2,\n",
    "    num_train_epochs=10,\n",
    "    fp16=True,  # Use mixed precision for speed\n",
    "    gradient_checkpointing=True,\n",
    "    push_to_hub=False\n",
    ")\n"
   ]
  },
  {
   "cell_type": "markdown",
   "metadata": {},
   "source": [
    "### 5. Fine-Tune the ASR Model"
   ]
  },
  {
   "cell_type": "code",
   "execution_count": null,
   "metadata": {},
   "outputs": [],
   "source": [
    "from transformers import Trainer, TrainingArguments\n",
    "\n",
    "# Data Collator\n",
    "def data_collator(batch):\n",
    "    input_values = [torch.tensor(item[\"input_values\"]) for item in batch]\n",
    "    labels = [torch.tensor(item[\"labels\"]) for item in batch]\n",
    "\n",
    "    return {\"input_values\": torch.stack(input_values), \"labels\": torch.stack(labels)}\n",
    "\n",
    "# Initialize Trainer\n",
    "trainer = Trainer(\n",
    "    model=model,\n",
    "    args=training_args,\n",
    "    train_dataset=dataset[\"train\"],\n",
    "    eval_dataset=dataset[\"test\"],\n",
    "    tokenizer=processor.feature_extractor,\n",
    "    data_collator=data_collator\n",
    ")\n",
    "\n",
    "# Start training\n",
    "trainer.train()\n"
   ]
  },
  {
   "cell_type": "markdown",
   "metadata": {},
   "source": [
    "### 6. Save and Test the Model"
   ]
  },
  {
   "cell_type": "code",
   "execution_count": null,
   "metadata": {},
   "outputs": [],
   "source": [
    "# Save fine-tuned model\n",
    "trainer.save_model(\"fine_tuned_wav2vec2\")\n",
    "\n",
    "# Load and test on a sample\n",
    "processor = Wav2Vec2Processor.from_pretrained(\"fine_tuned_wav2vec2\")\n",
    "model = Wav2Vec2ForCTC.from_pretrained(\"fine_tuned_wav2vec2\")\n",
    "\n",
    "# Load a sample audio file\n",
    "waveform, sample_rate = torchaudio.load(\"asr_dataset/audio_0.wav\")\n",
    "\n",
    "# Process input\n",
    "input_values = processor(waveform.squeeze(0), return_tensors=\"pt\", sampling_rate=sample_rate).input_values\n",
    "\n",
    "# Generate prediction\n",
    "with torch.no_grad():\n",
    "    logits = model(input_values).logits\n",
    "\n",
    "# Decode to BPE tokens\n",
    "predicted_ids = torch.argmax(logits, dim=-1)\n",
    "decoded_tokens = processor.batch_decode(predicted_ids)\n",
    "\n",
    "print(\"Predicted BPE Tokens:\", decoded_tokens)\n"
   ]
  }
 ],
 "metadata": {
  "kernelspec": {
   "display_name": "syllables",
   "language": "python",
   "name": "python3"
  },
  "language_info": {
   "name": "python",
   "version": "3.12.7"
  }
 },
 "nbformat": 4,
 "nbformat_minor": 2
}
